{
  "nbformat": 4,
  "nbformat_minor": 0,
  "metadata": {
    "colab": {
      "provenance": [],
      "include_colab_link": true
    },
    "kernelspec": {
      "name": "python3",
      "display_name": "Python 3"
    },
    "language_info": {
      "name": "python"
    }
  },
  "cells": [
    {
      "cell_type": "markdown",
      "metadata": {
        "id": "view-in-github",
        "colab_type": "text"
      },
      "source": [
        "<a href=\"https://colab.research.google.com/github/Sebascalero/talleresGoogleColab/blob/main/Taller_15_CVXPY_solvers_Branch_and_Bound.ipynb\" target=\"_parent\"><img src=\"https://colab.research.google.com/assets/colab-badge.svg\" alt=\"Open In Colab\"/></a>"
      ]
    },
    {
      "cell_type": "markdown",
      "source": [
        "## «*Hay personas que tienen la memoria muy llena, pero el juicio muy vacío y hueco*».\n",
        "### [Miguel de Montaigne](https://es.wikipedia.org/wiki/Michel_de_Montaigne)"
      ],
      "metadata": {
        "id": "VLMDjD3tAVeA"
      }
    },
    {
      "cell_type": "markdown",
      "source": [
        "# Taller 15 CVXPY solvers y Branch and Bound\n",
        "\n"
      ],
      "metadata": {
        "id": "bx-omGjwAXa3"
      }
    },
    {
      "metadata": {
        "id": "TgMEgpBeAJDW"
      },
      "cell_type": "markdown",
      "source": [
        "# Características generales de CVXPY\n",
        "\n",
        "CVXPY  es un lenguaje de modelado para [optimización de problemas convexos](https://web.stanford.edu/~boyd/cvxbook/), que funciona como una librería de Python. \n",
        "\n",
        "Su principal ventaja es que permite la formulación de problemas por medio de expresiones algebraicas o matriciales. CVXPY automáticamente transforma el problema a su forma estándar, lo resuelve por medio de un  [solvers](https://en.wikipedia.org/wiki/Solver), y entrega los resultados.\n",
        "\n",
        "Es decir, simplifica el proceso de optimización computacional ya que es capaz de resolver el problema sin necesidad de convertirlo a las formas estándares requeridas por los [solvers](https://en.wikipedia.org/wiki/Solver).\n",
        "\n",
        "## Página oficial\n",
        "La información oficial de CVXPY puede ser consultada en [www.cvxpy.org](http://www.cvxpy.org)"
      ]
    },
    {
      "metadata": {
        "id": "Triiphpbl1WE"
      },
      "cell_type": "markdown",
      "source": [
        "# Estados de un problema\n",
        "\n",
        "CVXPY identifica los siguientes estados en la solución de un problema:\n",
        "* OPTIMAL  (se encontró al menos una solución óptima)\n",
        "* INFEASIBLE (no se encontraron soluciones factibles)\n",
        "* UNBOUNDED (se encontró una solución indeterminada)\n",
        "* OPTIMAL_INACCURATE (se encontró al menos una solución óptima, **pero el nivel de precisión es inferior al deseado**)\n",
        "* INFEASIBLE_INACCURATE (no se encontraron soluciones factibles **y el nivel de precisión es inferior al deseado**)\n",
        "* UNBOUNDED_INACCURATE  (se encontró una solución indeterminada **y el nivel de precisión es inferior al deseado**)\n",
        "\n",
        "En los casos diferentes a estados **OPTIMAL** se sugiere revisar la formulación del problema y los valores de los parámetros.\n",
        "\n",
        "En los casos de estados **INACCURATE** de la solución se recomienda ensayar a resolver el problema utilizando otro solver.\n"
      ]
    },
    {
      "metadata": {
        "id": "PmRGg5-LrauO"
      },
      "cell_type": "markdown",
      "source": [
        "# Gestión de solvers\n",
        "\n",
        "CVXPY utiliza open source solvers como [OSQP](https://osqp.org), [ECOS](https://www.embotech.com/ECOS), [ECOS_BB](https://github.com/embotech/ecos#mixed-integer-socps-ecos_bb) y [SCS](https://github.com/cvxgrp/scs). Si se desea utilizar otros solvers ([CVXOPT](http://cvxopt.org), [GLPK](https://www.gnu.org/software/glpk/),  [CBC](https://projects.coin-or.org/Cbc),  [MOSEK](https://www.mosek.com),  [GUROBI](http://www.gurobi.com)) se debe instalar cada uno de ellos de manera adicional.\n",
        "El código que se presenta a continuación  resuelve el mismo ejercicio utilizando cuatro solvers diferentes. Analice los valores obtenidos tanto para la solución óptima como para las variables de decisión."
      ]
    },
    {
      "metadata": {
        "id": "CalVP518ri5g",
        "outputId": "e20a08b6-c465-4df2-d2aa-350e41693655",
        "colab": {
          "base_uri": "https://localhost:8080/"
        }
      },
      "cell_type": "code",
      "source": [
        "# Este programa presenta la solución del ejercicio de validación utilizando cuatro solvers\n",
        "\n",
        "# Importar la librería que se va a utilizar\n",
        "import cvxpy as cvx\n",
        "\n",
        "# Crear las variables a optimizar\n",
        "x = cvx.Variable()\n",
        "y = cvx.Variable()\n",
        "\n",
        "# Definir la función objetivo\n",
        "obj = cvx.Minimize(3*x + 8*y)\n",
        "\n",
        "# Establecer las restricciones\n",
        "constraints = [\n",
        "x + y >= 50,\n",
        "x - y <= 20,\n",
        "x >= 0,\n",
        "y >= 0\n",
        "]\n",
        "\n",
        "# Configurar el problema\n",
        "prob_ej = cvx.Problem(obj, constraints)\n",
        "\n",
        "# Obtener el valor óptimo, actualizar el estado del problema y los valores de todas las variables del problema\n",
        "prob_ej.solve()\n",
        "\n",
        "print (\"Soluciones sin especificar el solver\")\n",
        "\n",
        "# Mostrar el estado de la solución sin especificar el solver\n",
        "print(\"Estado de la solución sin especificar el solver:\", prob_ej.status)\n",
        "\n",
        "# Mostrar el valor óptimo de la función objetivo sin especificar el solver\n",
        "print(\"Valor óptimo de la función objetivo sin especificar el solver:\", prob_ej.value)\n",
        "\n",
        "# Mostrar los valores óptimos de las variables de decisión sin especificar el solver\n",
        "print(\"Valores óptimos de las variables de decisión sin especificar el solver:\", x.value, y.value, \"\\n\")\n",
        "\n",
        "# Soluciones con OSQP\n",
        "print (\"Soluciones con OSQP\")\n",
        "\n",
        "# Resolver con OSQP\n",
        "prob_ej.solve(solver=cvx.OSQP)\n",
        "\n",
        "# Mostrar el estado de la solución con OSQP\n",
        "print(\"Estado de la solución con OSQP:\", prob_ej.status)\n",
        "\n",
        "print(\"Valor óptimo de la función objetivo con OSQP:\", prob_ej.value)\n",
        "\n",
        "# Mostrar los valores óptimos de las variables de decisión con OSQP\n",
        "print(\"Valores óptimos de las variables de decisión con OSQP:\", x.value, y.value, \"\\n\")\n",
        "\n",
        "# Soluciones con ECOS\n",
        "print (\"Soluciones con ECOS\")\n",
        "\n",
        "# Resolver con ECOS\n",
        "prob_ej.solve(solver=cvx.ECOS)\n",
        "\n",
        "# Mostrar el estado de la solución con ECOS\n",
        "print(\"Estado de la solución con ECOS:\", prob_ej.status)\n",
        "\n",
        "print(\"Valor óptimo de la función objetivo con ECOS:\", prob_ej.value)\n",
        "\n",
        "# Mostrar los valores óptimos de las variables de decisión con ECOS\n",
        "print(\"Valores óptimos de las variables de decisión con ECOS:\", x.value, y.value, \"\\n\")\n",
        "\n",
        "# Soluciones con ECOS_BB\n",
        "print (\"Soluciones con ECOS_BB\")\n",
        "\n",
        "# Resolver con ECOS_BB\n",
        "prob_ej.solve(solver=cvx.ECOS_BB)\n",
        "\n",
        "# Mostrar el estado de la solución  con ECOS_BB\n",
        "print(\"Estado de la solución con ECOS_BB:\", prob_ej.status)\n",
        "\n",
        "print(\"Valor óptimo de la función objetivo con ECOS_BB:\", prob_ej.value)\n",
        "\n",
        "# Mostrar los valores óptimos de las variables de decisión con ECOS_BB\n",
        "print(\"Valores óptimos de las variables de decisión con ECOS_BB:\", x.value, y.value, \"\\n\")\n",
        "\n",
        "# Soluciones con SCS\n",
        "print (\"Soluciones con SCS\")\n",
        "\n",
        "# Resolver con SCS\n",
        "prob_ej.solve(solver=cvx.SCS)\n",
        "\n",
        "# Mostrar el estado de la solución  con SCS\n",
        "print(\"Estado de la solución con SCS:\", prob_ej.status)\n",
        "\n",
        "print(\"Valor óptimo de la función objetivo con SCS:\", prob_ej.value)\n",
        "\n",
        "# Mostrar los valores óptimos de las variables de decisión con SCS\n",
        "print(\"Valores óptimos de las variables de decisión con SCS:\", x.value, y.value, \"\\n\")"
      ],
      "execution_count": 1,
      "outputs": [
        {
          "output_type": "stream",
          "name": "stdout",
          "text": [
            "Soluciones sin especificar el solver\n",
            "Estado de la solución sin especificar el solver: optimal\n",
            "Valor óptimo de la función objetivo sin especificar el solver: 224.9999996816037\n",
            "Valores óptimos de las variables de decisión sin especificar el solver: 35.00000000022704 14.999999960115321 \n",
            "\n",
            "Soluciones con OSQP\n",
            "Estado de la solución con OSQP: optimal\n",
            "Valor óptimo de la función objetivo con OSQP: 225.0\n",
            "Valores óptimos de las variables de decisión con OSQP: 35.0 15.0 \n",
            "\n",
            "Soluciones con ECOS\n",
            "Estado de la solución con ECOS: optimal\n",
            "Valor óptimo de la función objetivo con ECOS: 224.9999996816037\n",
            "Valores óptimos de las variables de decisión con ECOS: 35.00000000022704 14.999999960115321 \n",
            "\n",
            "Soluciones con ECOS_BB\n",
            "Estado de la solución con ECOS_BB: optimal\n",
            "Valor óptimo de la función objetivo con ECOS_BB: 224.9999996816037\n",
            "Valores óptimos de las variables de decisión con ECOS_BB: 35.00000000022704 14.999999960115321 \n",
            "\n",
            "Soluciones con SCS\n",
            "Estado de la solución con SCS: optimal\n",
            "Valor óptimo de la función objetivo con SCS: 225.00005534246475\n",
            "Valores óptimos de las variables de decisión con SCS: 35.00001549417793 15.000001107491368 \n",
            "\n"
          ]
        }
      ]
    },
    {
      "metadata": {
        "id": "eSNwg7sahcHz"
      },
      "cell_type": "markdown",
      "source": [
        "# Branch and Bound\n",
        "\n",
        "Ejemplo de la solución  paso a paso de un problema de programación entera utilizando la heurística Branch and Bound."
      ]
    },
    {
      "metadata": {
        "id": "8CjzKIJR41ww"
      },
      "cell_type": "markdown",
      "source": [
        "## Problema inicial: problema00\n",
        "\n",
        "Max Z = 8\\* x + 5\\* y \n",
        "\n",
        "   x   +   y    <=  6\n",
        "   \n",
        "   9 \\* x       + 5\\* y        < =  45\n",
        "\n",
        "   x   > = 0      \n",
        "\n",
        "   y   >=  0\n",
        "\n",
        "**x, y enteros**\n"
      ]
    },
    {
      "metadata": {
        "id": "dckEhC5G42Zl",
        "outputId": "14780dae-c49b-4e9b-9113-1ae17769723a",
        "colab": {
          "base_uri": "https://localhost:8080/"
        }
      },
      "cell_type": "code",
      "source": [
        "# Importar la librería que se va a utilizar\n",
        "import cvxpy as cvx\n",
        "\n",
        "# Crear las variables a optimizar\n",
        "x = cvx.Variable()\n",
        "y = cvx.Variable()\n",
        "\n",
        "# Definir la función objetivo para maximizar el ingreso\n",
        "obj = cvx.Maximize(8*x + 5*y)\n",
        "\n",
        "# Establecer las restricciones\n",
        "restricciones00 = [\n",
        "\n",
        "# Primera restricción\n",
        "x + y <= 6,\n",
        "    \n",
        "# Segunda restricción\n",
        "9*x + 5*y <= 45,\n",
        "    \n",
        "# Restricciones de no negatividad\n",
        "x >= 0,\n",
        "y >= 0\n",
        "]\n",
        "\n",
        "# Configurar el problema\n",
        "prob00 = cvx.Problem(obj, restricciones00)\n",
        "\n",
        "# Obtener el valor óptimo\n",
        "prob00.solve()\n",
        "\n",
        "# Mostrar el estado de la solución y el valor óptimo de la función objetivo\n",
        "print(\"Estado de la solución:\", prob00.status)\n",
        "print(\"Valor máximo:\", \"%.2f\"% prob00.value)\n",
        "\n",
        "# Mostrar los valores óptimos de las variables de decisión\n",
        "print (\"Valor óptimo de x:\", \"%.2f\"% x.value)\n",
        "print(\"Valor óptimo de y:\", \"%.2f\"% y.value)"
      ],
      "execution_count": 2,
      "outputs": [
        {
          "output_type": "stream",
          "name": "stdout",
          "text": [
            "Estado de la solución: optimal\n",
            "Valor máximo: 41.25\n",
            "Valor óptimo de x: 3.75\n",
            "Valor óptimo de y: 2.25\n"
          ]
        }
      ]
    },
    {
      "metadata": {
        "id": "o514QsKI42Zj"
      },
      "cell_type": "markdown",
      "source": [
        "## subproblema01\n",
        "\n",
        "Max Z = 8\\* x + 5\\* y \n",
        "\n",
        "   x   +   y    <=  6\n",
        "   \n",
        "   9 \\* x       + 5\\* y        < =  45\n",
        "   \n",
        "   **x <= 3**\n",
        "\n",
        "   x   > = 0      \n",
        "\n",
        "   y   >=  0\n",
        "\n",
        "**x, y enteros**\n"
      ]
    },
    {
      "metadata": {
        "id": "3zMLv2FPAEh7",
        "outputId": "bf2c3c45-4eec-408b-93e1-6afb829530d8",
        "colab": {
          "base_uri": "https://localhost:8080/"
        }
      },
      "cell_type": "code",
      "source": [
        "# Importar la librería que se va a utilizar\n",
        "import cvxpy as cvx\n",
        "\n",
        "# Crear las variables a optimizar\n",
        "x = cvx.Variable()\n",
        "y = cvx.Variable()\n",
        "\n",
        "# Definir la función objetivo para maximizar el ingreso\n",
        "obj = cvx.Maximize(8*x + 5*y)\n",
        "\n",
        "# Establecer las restricciones\n",
        "restricciones01 = [\n",
        "\n",
        "# Primera restricción\n",
        "x + y <= 6,\n",
        "    \n",
        "# Segunda restricción\n",
        "9*x + 5*y <= 45,\n",
        "    \n",
        "# Restricciones subproblemas\n",
        "x <= 3,\n",
        "    \n",
        "# Restricciones de no negatividad\n",
        "x >= 0, \n",
        "y >= 0\n",
        "]\n",
        "\n",
        "# Configurar el problema\n",
        "prob01 = cvx.Problem(obj, restricciones01)\n",
        "\n",
        "# Obtener el valor óptimo\n",
        "prob01.solve()\n",
        "\n",
        "# Mostrar el estado de la solución y el valor óptimo de la función objetivo\n",
        "print(\"Estado de la solución:\", prob01.status)\n",
        "print(\"Valor máximo:\", \"%.2f\"% prob01.value)\n",
        "\n",
        "# Mostrar los valores óptimos de las variables de decisión\n",
        "print (\"Valor óptimo de x:\", \"%.2f\"% x.value)\n",
        "print(\"Valor óptimo de y:\", \"%.2f\"% y.value)"
      ],
      "execution_count": 3,
      "outputs": [
        {
          "output_type": "stream",
          "name": "stdout",
          "text": [
            "Estado de la solución: optimal\n",
            "Valor máximo: 39.00\n",
            "Valor óptimo de x: 3.00\n",
            "Valor óptimo de y: 3.00\n"
          ]
        }
      ]
    },
    {
      "metadata": {
        "id": "I0-WTP1R-VRn"
      },
      "cell_type": "markdown",
      "source": [
        "## subproblema02\n",
        "\n",
        "Max Z = 8\\* x + 5\\* y \n",
        "\n",
        "   x   +   y    <=  6\n",
        "   \n",
        "   9 \\* x       + 5\\* y        < =  45\n",
        "\n",
        "   **x >= 4**      \n",
        "\n",
        "   y   >=  0\n",
        "\n",
        "**x, y enteros**\n"
      ]
    },
    {
      "metadata": {
        "id": "ahtSo8F2-VRq",
        "outputId": "3fd6144d-976a-49e0-ec18-c254588e8173",
        "colab": {
          "base_uri": "https://localhost:8080/"
        }
      },
      "cell_type": "code",
      "source": [
        "# Importar la librería que se va a utilizar\n",
        "import cvxpy as cvx\n",
        "\n",
        "# Crear las variables a optimizar\n",
        "x = cvx.Variable()\n",
        "y = cvx.Variable()\n",
        "\n",
        "# Definir la función objetivo para maximizar el ingreso\n",
        "obj = cvx.Maximize(8*x + 5*y)\n",
        "\n",
        "# Establecer las restricciones\n",
        "restricciones02 = [\n",
        "\n",
        "# Primera restricción\n",
        "x + y <= 6,\n",
        "    \n",
        "# Segunda restricción\n",
        "9*x + 5*y <= 45,\n",
        " \n",
        "# Restricciones subproblemas\n",
        "x >= 4,   \n",
        "    \n",
        "# Restricciones de no negatividad\n",
        "y >= 0\n",
        "]\n",
        "\n",
        "# Configurar el problema\n",
        "prob02 = cvx.Problem(obj, restricciones02)\n",
        "\n",
        "# Obtener el valor óptimo\n",
        "prob02.solve()\n",
        "\n",
        "# Mostrar el estado de la solución y el valor óptimo de la función objetivo\n",
        "print(\"Estado de la solución:\", prob02.status)\n",
        "print(\"Valor máximo:\", \"%.2f\"% prob02.value)\n",
        "\n",
        "# Mostrar los valores óptimos de las variables de decisión\n",
        "print (\"Valor óptimo de x:\", \"%.2f\"% x.value)\n",
        "print(\"Valor óptimo de y:\", \"%.2f\"% y.value)"
      ],
      "execution_count": 4,
      "outputs": [
        {
          "output_type": "stream",
          "name": "stdout",
          "text": [
            "Estado de la solución: optimal\n",
            "Valor máximo: 41.00\n",
            "Valor óptimo de x: 4.00\n",
            "Valor óptimo de y: 1.80\n"
          ]
        }
      ]
    },
    {
      "metadata": {
        "id": "W6AYK5EKu6Iq"
      },
      "cell_type": "markdown",
      "source": [
        "## subproblema03\n",
        "\n",
        "Max Z = 8\\* x + 5\\* y \n",
        "\n",
        "   x   +   y    <=  6\n",
        "   \n",
        "   9 \\* x       + 5\\* y        < =  45\n",
        "\n",
        "   **x >= 4**      \n",
        "\n",
        "  **y >= 2**\n",
        "\n",
        "**x, y enteros**\n"
      ]
    },
    {
      "metadata": {
        "id": "MMSmVuNCpwRI",
        "outputId": "5a5490a5-4c7b-4ff8-98a6-bd5b40195880",
        "colab": {
          "base_uri": "https://localhost:8080/",
          "height": 253
        }
      },
      "cell_type": "code",
      "source": [
        "# Importar la librería que se va a utilizar\n",
        "import cvxpy as cvx\n",
        "\n",
        "# Crear las variables a optimizar\n",
        "x = cvx.Variable()\n",
        "y = cvx.Variable()\n",
        "\n",
        "# Definir la función objetivo para maximizar el ingreso\n",
        "obj = cvx.Maximize(8*x + 5*y)\n",
        "\n",
        "# Establecer las restricciones\n",
        "restricciones03 = [\n",
        "\n",
        "# Primera restricción\n",
        "x + y <= 6,\n",
        "    \n",
        "# Segunda restricción\n",
        "9*x + 5*y <= 45,\n",
        " \n",
        "# Restricciones subproblemas\n",
        "x >= 4, \n",
        "y >= 2  \n",
        "    \n",
        "# Restricciones de no negatividad\n",
        "\n",
        "]\n",
        "\n",
        "# Configurar el problema\n",
        "prob03 = cvx.Problem(obj, restricciones03)\n",
        "\n",
        "# Obtener el valor óptimo\n",
        "prob03.solve()\n",
        "\n",
        "# Mostrar el estado de la solución y el valor óptimo de la función objetivo\n",
        "print(\"Estado de la solución:\", prob03.status)\n",
        "print(\"Valor máximo:\", \"%.2f\"% prob03.value)\n",
        "\n",
        "# Mostrar los valores óptimos de las variables de decisión\n",
        "print (\"Valor óptimo de x:\", \"%.2f\"% x.value)\n",
        "print(\"Valor óptimo de y:\", \"%.2f\"% y.value)"
      ],
      "execution_count": 5,
      "outputs": [
        {
          "output_type": "stream",
          "name": "stdout",
          "text": [
            "Estado de la solución: infeasible\n",
            "Valor máximo: -inf\n"
          ]
        },
        {
          "output_type": "error",
          "ename": "TypeError",
          "evalue": "ignored",
          "traceback": [
            "\u001b[0;31m---------------------------------------------------------------------------\u001b[0m",
            "\u001b[0;31mTypeError\u001b[0m                                 Traceback (most recent call last)",
            "\u001b[0;32m<ipython-input-5-884fd95574ef>\u001b[0m in \u001b[0;36m<cell line: 39>\u001b[0;34m()\u001b[0m\n\u001b[1;32m     37\u001b[0m \u001b[0;34m\u001b[0m\u001b[0m\n\u001b[1;32m     38\u001b[0m \u001b[0;31m# Mostrar los valores óptimos de las variables de decisión\u001b[0m\u001b[0;34m\u001b[0m\u001b[0;34m\u001b[0m\u001b[0m\n\u001b[0;32m---> 39\u001b[0;31m \u001b[0mprint\u001b[0m \u001b[0;34m(\u001b[0m\u001b[0;34m\"Valor óptimo de x:\"\u001b[0m\u001b[0;34m,\u001b[0m \u001b[0;34m\"%.2f\"\u001b[0m\u001b[0;34m%\u001b[0m \u001b[0mx\u001b[0m\u001b[0;34m.\u001b[0m\u001b[0mvalue\u001b[0m\u001b[0;34m)\u001b[0m\u001b[0;34m\u001b[0m\u001b[0;34m\u001b[0m\u001b[0m\n\u001b[0m\u001b[1;32m     40\u001b[0m \u001b[0mprint\u001b[0m\u001b[0;34m(\u001b[0m\u001b[0;34m\"Valor óptimo de y:\"\u001b[0m\u001b[0;34m,\u001b[0m \u001b[0;34m\"%.2f\"\u001b[0m\u001b[0;34m%\u001b[0m \u001b[0my\u001b[0m\u001b[0;34m.\u001b[0m\u001b[0mvalue\u001b[0m\u001b[0;34m)\u001b[0m\u001b[0;34m\u001b[0m\u001b[0;34m\u001b[0m\u001b[0m\n",
            "\u001b[0;31mTypeError\u001b[0m: must be real number, not NoneType"
          ]
        }
      ]
    },
    {
      "metadata": {
        "id": "j7qv3hapAEht"
      },
      "cell_type": "markdown",
      "source": [
        "## subproblema04\n",
        "\n",
        "Max Z = 8\\* x + 5\\* y \n",
        "\n",
        "   x   +   y    <=  6\n",
        "   \n",
        "   9 \\* x       + 5\\* y        < =  45\n",
        "\n",
        "   **x >= 4**      \n",
        "   \n",
        "   **y <= 1**\n",
        "\n",
        "   y   >=  0\n",
        "\n",
        "**x, y enteros**\n"
      ]
    },
    {
      "metadata": {
        "id": "d09TUiV5AEh0",
        "outputId": "daa3fd4e-887e-483e-bf5e-5670d6e9508c",
        "colab": {
          "base_uri": "https://localhost:8080/"
        }
      },
      "cell_type": "code",
      "source": [
        "# Importar la librería que se va a utilizar\n",
        "import cvxpy as cvx\n",
        "\n",
        "# Crear las variables a optimizar\n",
        "x = cvx.Variable()\n",
        "y = cvx.Variable()\n",
        "\n",
        "# Definir la función objetivo para maximizar el ingreso\n",
        "obj = cvx.Maximize(8*x + 5*y)\n",
        "\n",
        "# Establecer las restricciones\n",
        "restricciones04 = [\n",
        "\n",
        "# Primera restricción\n",
        "x + y <= 6,\n",
        "    \n",
        "# Segunda restricción\n",
        "9*x + 5*y <= 45,\n",
        " \n",
        "# Restricciones subproblemas\n",
        "x >= 4, y <= 1,\n",
        "    \n",
        "# Restricciones de no negatividad\n",
        "y >= 0\n",
        "]\n",
        "\n",
        "# Configurar el problema\n",
        "prob04 = cvx.Problem(obj, restricciones04)\n",
        "\n",
        "# Obtener el valor óptimo\n",
        "prob04.solve()\n",
        "\n",
        "# Mostrar el estado de la solución y el valor óptimo de la función objetivo\n",
        "print(\"Estado de la solución:\", prob04.status)\n",
        "print(\"Valor máximo:\", \"%.2f\"% prob04.value)\n",
        "\n",
        "# Mostrar los valores óptimos de las variables de decisión\n",
        "print (\"Valor óptimo de x:\", \"%.2f\"% x.value)\n",
        "print(\"Valor óptimo de y:\", \"%.2f\"% y.value)"
      ],
      "execution_count": 6,
      "outputs": [
        {
          "output_type": "stream",
          "name": "stdout",
          "text": [
            "Estado de la solución: optimal\n",
            "Valor máximo: 40.56\n",
            "Valor óptimo de x: 4.44\n",
            "Valor óptimo de y: 1.00\n"
          ]
        }
      ]
    },
    {
      "metadata": {
        "id": "KXEnpFs5F7CO"
      },
      "cell_type": "markdown",
      "source": [
        "## subproblema05\n",
        "\n",
        "Max Z = 8\\* x + 5\\* y \n",
        "\n",
        "   x   +   y    <=  6\n",
        "   \n",
        "   9 \\* x       + 5\\* y        < =  45\n",
        "\n",
        "   **x >= 5**      \n",
        "   \n",
        "   **y <= 1**\n",
        "\n",
        "   y   >=  0\n",
        "\n",
        "**x, y enteros**\n"
      ]
    },
    {
      "metadata": {
        "id": "DQ_yvjHcF7CR",
        "outputId": "0d181ddc-4ded-49fc-e5eb-e1efe34fbc9c",
        "colab": {
          "base_uri": "https://localhost:8080/"
        }
      },
      "cell_type": "code",
      "source": [
        "# Importar la librería que se va a utilizar\n",
        "import cvxpy as cvx\n",
        "\n",
        "# Crear las variables a optimizar\n",
        "x = cvx.Variable()\n",
        "y = cvx.Variable()\n",
        "\n",
        "# Definir la función objetivo para maximizar el ingreso\n",
        "obj = cvx.Maximize(8*x + 5*y)\n",
        "\n",
        "# Establecer las restricciones\n",
        "restricciones05 = [\n",
        "\n",
        "# Primera restricción\n",
        "x + y <= 6,\n",
        "    \n",
        "# Segunda restricción\n",
        "9*x + 5*y <= 45,\n",
        " \n",
        "# Restricciones subproblemas\n",
        "x >= 5, \n",
        "y <= 1,\n",
        "    \n",
        "# Restricciones de no negatividad\n",
        "y >= 0\n",
        "]\n",
        "\n",
        "# Configurar el problema\n",
        "prob05 = cvx.Problem(obj, restricciones05)\n",
        "\n",
        "# Obtener el valor óptimo\n",
        "prob05.solve()\n",
        "\n",
        "# Mostrar el estado de la solución y el valor óptimo de la función objetivo\n",
        "print(\"Estado de la solución:\", prob05.status)\n",
        "print(\"Valor máximo:\", \"%.2f\"% prob05.value)\n",
        "\n",
        "# Mostrar los valores óptimos de las variables de decisión\n",
        "print (\"Valor óptimo de x:\", \"%.2f\"% x.value)\n",
        "print(\"Valor óptimo de y:\", \"%.2f\"% y.value)"
      ],
      "execution_count": 7,
      "outputs": [
        {
          "output_type": "stream",
          "name": "stdout",
          "text": [
            "Estado de la solución: optimal\n",
            "Valor máximo: 40.00\n",
            "Valor óptimo de x: 5.00\n",
            "Valor óptimo de y: 0.00\n"
          ]
        }
      ]
    },
    {
      "metadata": {
        "id": "MBc9HTlxG6Yy"
      },
      "cell_type": "markdown",
      "source": [
        "## subproblema06\n",
        "\n",
        "Max Z = 8\\* x + 5\\* y \n",
        "\n",
        "   x   +   y    <=  6\n",
        "   \n",
        "   9 \\* x       + 5\\* y        < =  45\n",
        "\n",
        "   **x >= 4**      \n",
        "   \n",
        "   **x <= 4**\n",
        "   \n",
        "   **y <= 1**\n",
        "\n",
        "   y   >=  0\n",
        "\n",
        "**x, y enteros**\n"
      ]
    },
    {
      "metadata": {
        "id": "0OCj9mabG6Y1",
        "outputId": "a25e7dff-3467-4264-fbea-1cb10c30c4de",
        "colab": {
          "base_uri": "https://localhost:8080/"
        }
      },
      "cell_type": "code",
      "source": [
        "# Importar la librería que se va a utilizar\n",
        "import cvxpy as cvx\n",
        "\n",
        "# Crear la variable a optimizar\n",
        "x = cvx.Variable()\n",
        "y = cvx.Variable()\n",
        "\n",
        "# Definir la función objetivo para maximizar el ingreso\n",
        "obj = cvx.Maximize(8*x + 5*y)\n",
        "\n",
        "# Establecer las restricciones\n",
        "restricciones06 = [\n",
        "\n",
        "# Primera restricción\n",
        "x + y <= 6,\n",
        "    \n",
        "# Segunda restricción\n",
        "9*x + 5*y <= 45,\n",
        " \n",
        "# Restricciones subproblemas\n",
        "x >= 4, \n",
        "x <=4, \n",
        "y <= 1,\n",
        "    \n",
        "# Restricciones de no negatividad\n",
        "y >= 0\n",
        "]\n",
        "\n",
        "# Configurar el problema\n",
        "prob06 = cvx.Problem(obj, restricciones06)\n",
        "\n",
        "# Obtener el valor óptimo\n",
        "prob06.solve()\n",
        "\n",
        "# Mostrar el estado de la solución y el valor óptimo de la función objetivo\n",
        "print(\"Estado de la solución:\", prob06.status)\n",
        "print(\"Valor máximo:\", \"%.2f\"% prob06.value)\n",
        "\n",
        "# Mostrar los valores óptimos de las variables de decisión\n",
        "print (\"Valor óptimo de x:\", \"%.2f\"% x.value)\n",
        "print(\"Valor óptimo de y:\", \"%.2f\"% y.value)"
      ],
      "execution_count": 8,
      "outputs": [
        {
          "output_type": "stream",
          "name": "stdout",
          "text": [
            "Estado de la solución: optimal\n",
            "Valor máximo: 37.00\n",
            "Valor óptimo de x: 4.00\n",
            "Valor óptimo de y: 1.00\n"
          ]
        }
      ]
    },
    {
      "metadata": {
        "id": "39n80aHZ75WO"
      },
      "cell_type": "markdown",
      "source": [
        "# Problema inicial: problema00 resuelto directamente por CVXPY\n",
        "\n",
        "Max Z = 8\\* x + 5\\* y \n",
        "\n",
        "   x   +   y    <=  6\n",
        "   \n",
        "   9 \\* x       + 5\\* y        < =  45\n",
        "\n",
        "   x   > = 0      \n",
        "\n",
        "   y   >=  0\n",
        "\n",
        "**x, y enteros**\n"
      ]
    },
    {
      "metadata": {
        "id": "EPmwVAHU75WO",
        "outputId": "351c94a3-5b48-4a43-e342-3b390f0bd12b",
        "colab": {
          "base_uri": "https://localhost:8080/"
        }
      },
      "cell_type": "code",
      "source": [
        "# Importar la librería que se va a utilizar\n",
        "import cvxpy as cvx\n",
        "\n",
        "# Crear las variables a optimizar y establecerlas como enteros \n",
        "x = cvx.Variable(integer=True)\n",
        "y = cvx.Variable(integer=True)\n",
        "\n",
        "# Definir la función objetivo para maximizar el ingreso\n",
        "obj = cvx.Maximize(8*x + 5*y)\n",
        "\n",
        "# Establecer las restricciones\n",
        "restricciones_int = [\n",
        "\n",
        "# Primera restricción\n",
        "x + y <= 6,\n",
        "    \n",
        "# Segunda restricción\n",
        "9*x + 5*y <= 45,\n",
        "    \n",
        "# Restricciones de no negatividad\n",
        "x >= 0,\n",
        "y >= 0\n",
        "]\n",
        "\n",
        "# Configurar el problema\n",
        "prob_int = cvx.Problem(obj, restricciones_int)\n",
        "\n",
        "# Obtener el valor óptimo\n",
        "prob_int.solve()\n",
        "\n",
        "# Mostrar el estado de la solución y el valor óptimo de la función objetivo\n",
        "print(\"Estado de la solución:\", prob_int.status)\n",
        "print(\"Valor máximo:\", \"%.2f\"% prob_int.value)\n",
        "\n",
        "# Mostrar los valores óptimos de las variables de decisión\n",
        "print (\"Valor óptimo de x:\", \"%.2f\"% x.value)\n",
        "print(\"Valor óptimo de y:\", \"%.2f\"% y.value, \"\\n\")\n",
        "\n",
        "# Soluciones con ECOS_BB\n",
        "print (\"Soluciones con ECOS_BB\")\n",
        "\n",
        "# Resolver con ECOS_bb\n",
        "prob_int.solve(solver=cvx.ECOS_BB, mi_max_iters = 1000, mi_abs_eps= 1e-6, mi_rel_eps = 1e-3, verbose = True)\n",
        "\n",
        "# Mostrar el estado de la solución  con ECOS_BB\n",
        "print(\"Estado de la solución con ECOS_BB:\", prob_int.status)\n",
        "\n",
        "print(\"Valor óptimo de la función objetivo con ECOS_BB:\", prob_int.value)\n",
        "\n",
        "# Mostrar los valores óptimos de las variables de decisión con ECOS_BB\n",
        "print(\"Valores óptimos de las variables de decisión con ECOS_BB:\", x.value, y.value, \"\\n\")"
      ],
      "execution_count": 9,
      "outputs": [
        {
          "output_type": "stream",
          "name": "stdout",
          "text": [
            "Estado de la solución: optimal\n",
            "Valor máximo: 40.00\n",
            "Valor óptimo de x: 5.00\n",
            "Valor óptimo de y: 0.00 \n",
            "\n",
            "Soluciones con ECOS_BB\n",
            "===============================================================================\n",
            "                                     CVXPY                                     \n",
            "                                     v1.3.1                                    \n",
            "===============================================================================\n",
            "(CVXPY) Apr 11 03:31:46 PM: Your problem has 2 variables, 4 constraints, and 0 parameters.\n",
            "(CVXPY) Apr 11 03:31:46 PM: It is compliant with the following grammars: DCP, DQCP\n",
            "(CVXPY) Apr 11 03:31:46 PM: (If you need to solve this problem multiple times, but with different data, consider using parameters.)\n",
            "(CVXPY) Apr 11 03:31:46 PM: CVXPY will first compile your problem; then, it will invoke a numerical solver to obtain a solution.\n",
            "-------------------------------------------------------------------------------\n",
            "                                  Compilation                                  \n",
            "-------------------------------------------------------------------------------\n",
            "(CVXPY) Apr 11 03:31:46 PM: Compiling problem (target solver=ECOS_BB).\n",
            "(CVXPY) Apr 11 03:31:46 PM: Reduction chain: FlipObjective -> Dcp2Cone -> CvxAttr2Constr -> ConeMatrixStuffing -> ECOS_BB\n",
            "(CVXPY) Apr 11 03:31:46 PM: Applying reduction FlipObjective\n",
            "(CVXPY) Apr 11 03:31:46 PM: Applying reduction Dcp2Cone\n",
            "(CVXPY) Apr 11 03:31:46 PM: Applying reduction CvxAttr2Constr\n",
            "(CVXPY) Apr 11 03:31:46 PM: Applying reduction ConeMatrixStuffing\n",
            "(CVXPY) Apr 11 03:31:46 PM: Applying reduction ECOS_BB\n",
            "(CVXPY) Apr 11 03:31:46 PM: Finished problem compilation (took 4.083e-02 seconds).\n",
            "-------------------------------------------------------------------------------\n",
            "                                Numerical solver                               \n",
            "-------------------------------------------------------------------------------\n",
            "(CVXPY) Apr 11 03:31:46 PM: Invoking solver ECOS_BB  to obtain a solution.\n",
            "-------------------------------------------------------------------------------\n",
            "                                    Summary                                    \n",
            "-------------------------------------------------------------------------------\n",
            "(CVXPY) Apr 11 03:31:52 PM: Problem status: optimal_inaccurate\n",
            "(CVXPY) Apr 11 03:31:52 PM: Optimal value: 3.000e+01\n",
            "(CVXPY) Apr 11 03:31:52 PM: Compilation took 4.083e-02 seconds\n",
            "(CVXPY) Apr 11 03:31:52 PM: Solver (including time spent in interface) took 6.180e+00 seconds\n",
            "Estado de la solución con ECOS_BB: optimal_inaccurate\n",
            "Valor óptimo de la función objetivo con ECOS_BB: 29.99999999905735\n",
            "Valores óptimos de las variables de decisión con ECOS_BB: -1.736283998463785e-13 5.999999999811748 \n",
            "\n"
          ]
        },
        {
          "output_type": "stream",
          "name": "stderr",
          "text": [
            "/usr/local/lib/python3.9/dist-packages/cvxpy/problems/problem.py:1385: UserWarning: Solution may be inaccurate. Try another solver, adjusting the solver settings, or solve with verbose=True for more information.\n",
            "  warnings.warn(\n"
          ]
        }
      ]
    },
    {
      "cell_type": "markdown",
      "source": [
        "# Problema inicial: problema00 resuelto con MOSEK\n",
        "\n",
        "Max Z = 8\\* x + 5\\* y \n",
        "\n",
        "   x   +   y    <=  6\n",
        "   \n",
        "   9 \\* x       + 5\\* y        < =  45\n",
        "\n",
        "   x   > = 0      \n",
        "\n",
        "   y   >=  0\n",
        "\n",
        "**x, y enteros**"
      ],
      "metadata": {
        "id": "UYsRyFLamBqQ"
      }
    },
    {
      "cell_type": "markdown",
      "source": [
        "## Instalar MOSEK"
      ],
      "metadata": {
        "id": "0XUIesHJmERV"
      }
    },
    {
      "cell_type": "code",
      "source": [
        "# Instalar MOSEK en Google Colab\n",
        "!pip install mosek"
      ],
      "metadata": {
        "colab": {
          "base_uri": "https://localhost:8080/"
        },
        "id": "ooc0H5xOqtus",
        "outputId": "20d90365-db77-49a7-e8a3-42c4073f66a4"
      },
      "execution_count": 1,
      "outputs": [
        {
          "output_type": "stream",
          "name": "stdout",
          "text": [
            "Looking in indexes: https://pypi.org/simple, https://us-python.pkg.dev/colab-wheels/public/simple/\n",
            "Requirement already satisfied: mosek in /usr/local/lib/python3.9/dist-packages (10.0.40)\n"
          ]
        }
      ]
    },
    {
      "cell_type": "markdown",
      "source": [
        "## Verificar la instalación de MOSEK"
      ],
      "metadata": {
        "id": "BhABHtg8LSet"
      }
    },
    {
      "cell_type": "code",
      "source": [
        "# Importar las librerías requeridas\n",
        "import cvxpy as cvx\n",
        "import mosek\n",
        "\n",
        "# Verificar los solvers disponibles\n",
        "print(cvx.installed_solvers())"
      ],
      "metadata": {
        "colab": {
          "base_uri": "https://localhost:8080/"
        },
        "id": "KmlMNJ3Wp20y",
        "outputId": "2674451b-da26-4bec-ae13-07794afa24d0"
      },
      "execution_count": 2,
      "outputs": [
        {
          "output_type": "stream",
          "name": "stdout",
          "text": [
            "['CVXOPT', 'ECOS', 'ECOS_BB', 'GLPK', 'GLPK_MI', 'MOSEK', 'OSQP', 'SCIPY', 'SCS']\n"
          ]
        }
      ]
    },
    {
      "cell_type": "markdown",
      "source": [
        "## Aviso importante\n",
        "\n",
        "Antes de ejecutar cvxpy con el solver MOSEK es necesario subir el archivo con la licencia de MOSEK (mosek.lic) para crear la ruta /root/mosek/mosek.lic\n",
        "\n",
        "**Este paso hay que repetirlo cada vez que se vaya a utilizar MOSEK porque desaparece cuando se reinicia el entorno de ejecución**.\n",
        "\n",
        "En el siguiente enlace puede solicitar una licencia académica **gratuita** de MOSEK: [MOSEK Academic Licenses](https://www.mosek.com/products/academic-licenses/)"
      ],
      "metadata": {
        "id": "P6trz1A2G1DT"
      }
    },
    {
      "cell_type": "markdown",
      "source": [
        "## Solución del problema00 con MOSEK"
      ],
      "metadata": {
        "id": "wzV4jJCWY9of"
      }
    },
    {
      "cell_type": "code",
      "source": [
        "# Importar las librerías que se van a utilizar\n",
        "import cvxpy as cvx\n",
        "from mosek.fusion import *\n",
        "\n",
        "# Crear las variables a optimizar y establecerlas como enteros \n",
        "x = cvx.Variable(integer=True)\n",
        "y = cvx.Variable(integer=True)\n",
        "\n",
        "# Definir la función objetivo para maximizar el ingreso\n",
        "obj = cvx.Maximize(8*x + 5*y)\n",
        "\n",
        "# Establecer las restricciones\n",
        "restricciones_msk = [\n",
        "\n",
        "# Primera restricción\n",
        "x + y <= 6,\n",
        "    \n",
        "# Segunda restricción\n",
        "9*x + 5*y <= 45,\n",
        "    \n",
        "# Restricciones de no negatividad\n",
        "x >= 0,\n",
        "y >= 0\n",
        "]\n",
        "\n",
        "# Configurar el problema\n",
        "prob_msk = cvx.Problem(obj, restricciones_msk)\n",
        "\n",
        "# Obtener el valor óptimo\n",
        "prob_msk.solve()\n",
        "\n",
        "# Resolver con MOSEK\n",
        "prob_msk.solve(solver=cvx.MOSEK)\n",
        "#prob_msk.solve(solver=cvx.MOSEK, verbose = True)\n",
        "\n",
        "# Mostrar el estado de la solución  con MOSEK\n",
        "print(\"Estado de la solución con MOSEK:\", prob_msk.status)\n",
        "\n",
        "print(\"Valor óptimo de la función objetivo con MOSEK:\", prob_msk.value)\n",
        "\n",
        "# Mostrar los valores óptimos de las variables de decisión con MOSEK\n",
        "print(\"Valores óptimos de las variables de decisión con \")\n",
        "print(\"Valor óptimo de x con MOSEK:\", x.value)\n",
        "print(\"Valor óptimo de y con MOSEK:\", y.value)"
      ],
      "metadata": {
        "colab": {
          "base_uri": "https://localhost:8080/"
        },
        "id": "F2y6HzDNIXbK",
        "outputId": "8c4b99cb-c3bb-417e-9f5f-0b071b60bfb4"
      },
      "execution_count": 3,
      "outputs": [
        {
          "output_type": "stream",
          "name": "stdout",
          "text": [
            "Estado de la solución con MOSEK: optimal\n",
            "Valor óptimo de la función objetivo con MOSEK: 40.0\n",
            "Valores óptimos de las variables de decisión con \n",
            "Valor óptimo de x con MOSEK: 5.0\n",
            "Valor óptimo de y con MOSEK: 0.0\n"
          ]
        }
      ]
    },
    {
      "cell_type": "markdown",
      "source": [
        "# Ejercicios"
      ],
      "metadata": {
        "id": "ia3dw24BZHq6"
      }
    },
    {
      "cell_type": "markdown",
      "source": [
        "## 00.\n",
        "Resuelva con el método Branch and Bound, utilizando CVXPY, el ejemplo 9.2-1 del libro de (TAHA, 2012) página 336."
      ],
      "metadata": {
        "id": "08XSuUcAZK2n"
      }
    },
    {
      "cell_type": "code",
      "source": [
        "# Importar la librería que se va a utilizar\n",
        "import cvxpy as cvx\n",
        "\n",
        "# Crear las variables a optimizar\n",
        "x = cvx.Variable()\n",
        "y = cvx.Variable()\n",
        "\n",
        "# Definir la función objetivo para maximizar el ingreso\n",
        "obj = cvx.Maximize(5*x + 4*y)\n",
        "\n",
        "# Establecer las restricciones\n",
        "restricciones00 = [\n",
        "\n",
        "# Primera restricción\n",
        "x + y <= 5,\n",
        "    \n",
        "# Segunda restricción\n",
        "10*x + 6*y <= 45,\n",
        "    \n",
        "# Restricciones de no negatividad\n",
        "x >= 0,\n",
        "y >= 0\n",
        "]\n",
        "\n",
        "# Configurar el problema\n",
        "prob00 = cvx.Problem(obj, restricciones00)\n",
        "\n",
        "# Obtener el valor óptimo\n",
        "prob00.solve()\n",
        "\n",
        "# Mostrar el estado de la solución y el valor óptimo de la función objetivo\n",
        "print(\"Estado de la solución:\", prob00.status)\n",
        "print(\"Valor máximo:\", \"%.2f\"% prob00.value)\n",
        "\n",
        "# Mostrar los valores óptimos de las variables de decisión\n",
        "print (\"Valor óptimo de x:\", \"%.2f\"% x.value)\n",
        "print(\"Valor óptimo de y:\", \"%.2f\"% y.value)"
      ],
      "metadata": {
        "id": "eR10BZQjaRjM",
        "outputId": "eccce06e-5c53-47be-b926-d7cfa4620fb2",
        "colab": {
          "base_uri": "https://localhost:8080/"
        }
      },
      "execution_count": 13,
      "outputs": [
        {
          "output_type": "stream",
          "name": "stdout",
          "text": [
            "Estado de la solución: optimal\n",
            "Valor máximo: 23.75\n",
            "Valor óptimo de x: 3.75\n",
            "Valor óptimo de y: 1.25\n"
          ]
        }
      ]
    },
    {
      "cell_type": "markdown",
      "source": [
        "Subproblema01\n"
      ],
      "metadata": {
        "id": "H9Cc2laOLHeH"
      }
    },
    {
      "cell_type": "code",
      "source": [
        "# Importar la librería que se va a utilizar\n",
        "import cvxpy as cvx\n",
        "\n",
        "# Crear las variables a optimizar\n",
        "x = cvx.Variable()\n",
        "y = cvx.Variable()\n",
        "\n",
        "# Definir la función objetivo para maximizar el ingreso\n",
        "obj = cvx.Maximize(5*x + 4*y)\n",
        "\n",
        "# Establecer las restricciones\n",
        "restricciones01 = [\n",
        "\n",
        "# Primera restricción\n",
        "x + y <= 5,\n",
        "    \n",
        "# Segunda restricción\n",
        "10*x + 6*y <= 45,\n",
        "    \n",
        "# Restricciones subproblemas\n",
        "x <= 3,\n",
        "    \n",
        "# Restricciones de no negatividad\n",
        "x >= 0, \n",
        "y >= 0\n",
        "]\n",
        "\n",
        "# Configurar el problema\n",
        "prob01 = cvx.Problem(obj, restricciones01)\n",
        "\n",
        "# Obtener el valor óptimo\n",
        "prob01.solve()\n",
        "\n",
        "# Mostrar el estado de la solución y el valor óptimo de la función objetivo\n",
        "print(\"Estado de la solución:\", prob01.status)\n",
        "print(\"Valor máximo:\", \"%.2f\"% prob01.value)\n",
        "\n",
        "# Mostrar los valores óptimos de las variables de decisión\n",
        "print (\"Valor óptimo de x:\", \"%.2f\"% x.value)\n",
        "print(\"Valor óptimo de y:\", \"%.2f\"% y.value)"
      ],
      "metadata": {
        "id": "WbJOyqR7c4TM",
        "outputId": "0c44b598-1f2d-440f-ce38-e97f23c86ba4",
        "colab": {
          "base_uri": "https://localhost:8080/"
        }
      },
      "execution_count": 14,
      "outputs": [
        {
          "output_type": "stream",
          "name": "stdout",
          "text": [
            "Estado de la solución: optimal\n",
            "Valor máximo: 23.00\n",
            "Valor óptimo de x: 3.00\n",
            "Valor óptimo de y: 2.00\n"
          ]
        }
      ]
    },
    {
      "cell_type": "markdown",
      "source": [
        "subproblema02"
      ],
      "metadata": {
        "id": "woeJfULlLjVg"
      }
    },
    {
      "cell_type": "code",
      "source": [
        "# Importar la librería que se va a utilizar\n",
        "import cvxpy as cvx\n",
        "\n",
        "# Crear las variables a optimizar\n",
        "x = cvx.Variable()\n",
        "y = cvx.Variable()\n",
        "\n",
        "# Definir la función objetivo para maximizar el ingreso\n",
        "obj = cvx.Maximize(5*x + 4*y)\n",
        "\n",
        "# Establecer las restricciones\n",
        "restricciones02 = [\n",
        "\n",
        "# Primera restricción\n",
        "x + y <= 5,\n",
        "    \n",
        "# Segunda restricción\n",
        "10*x + 6*y <= 45,\n",
        " \n",
        "# Restricciones subproblemas\n",
        "x >= 4,   \n",
        "    \n",
        "# Restricciones de no negatividad\n",
        "y >= 0\n",
        "]\n",
        "\n",
        "# Configurar el problema\n",
        "prob02 = cvx.Problem(obj, restricciones02)\n",
        "\n",
        "# Obtener el valor óptimo\n",
        "prob02.solve()\n",
        "\n",
        "# Mostrar el estado de la solución y el valor óptimo de la función objetivo\n",
        "print(\"Estado de la solución:\", prob02.status)\n",
        "print(\"Valor máximo:\", \"%.2f\"% prob02.value)\n",
        "\n",
        "# Mostrar los valores óptimos de las variables de decisión\n",
        "print (\"Valor óptimo de x:\", \"%.2f\"% x.value)\n",
        "print(\"Valor óptimo de y:\", \"%.2f\"% y.value)"
      ],
      "metadata": {
        "id": "HV3a-DUldEJK",
        "outputId": "b1d3ecae-2f2b-4812-e194-1f33a080014c",
        "colab": {
          "base_uri": "https://localhost:8080/"
        }
      },
      "execution_count": 15,
      "outputs": [
        {
          "output_type": "stream",
          "name": "stdout",
          "text": [
            "Estado de la solución: optimal\n",
            "Valor máximo: 23.33\n",
            "Valor óptimo de x: 4.00\n",
            "Valor óptimo de y: 0.83\n"
          ]
        }
      ]
    },
    {
      "cell_type": "markdown",
      "source": [
        "Subproblema3"
      ],
      "metadata": {
        "id": "28K24Ba3L6DG"
      }
    },
    {
      "cell_type": "code",
      "source": [
        "# Importar la librería que se va a utilizar\n",
        "import cvxpy as cvx\n",
        "\n",
        "# Crear las variables a optimizar\n",
        "x = cvx.Variable()\n",
        "y = cvx.Variable()\n",
        "\n",
        "# Definir la función objetivo para maximizar el ingreso\n",
        "obj = cvx.Maximize(5*x + 4*y)\n",
        "\n",
        "# Establecer las restricciones\n",
        "restricciones02 = [\n",
        "\n",
        "# Primera restricción\n",
        "x + y <= 5,\n",
        "    \n",
        "# Segunda restricción\n",
        "10*x + 6*y <= 45,\n",
        " \n",
        "# Restricciones subproblemas\n",
        "x >= 4,   \n",
        "y <= 0,\n",
        "    \n",
        "# Restricciones de no negatividad\n",
        "y >= 0\n",
        "]\n",
        "\n",
        "# Configurar el problema\n",
        "prob02 = cvx.Problem(obj, restricciones02)\n",
        "\n",
        "# Obtener el valor óptimo\n",
        "prob02.solve()\n",
        "\n",
        "# Mostrar el estado de la solución y el valor óptimo de la función objetivo\n",
        "print(\"Estado de la solución:\", prob02.status)\n",
        "print(\"Valor máximo:\", \"%.2f\"% prob02.value)\n",
        "\n",
        "# Mostrar los valores óptimos de las variables de decisión\n",
        "print (\"Valor óptimo de x:\", \"%.2f\"% x.value)\n",
        "print(\"Valor óptimo de y:\", \"%.2f\"% y.value)"
      ],
      "metadata": {
        "id": "CbtbB7TvbLCO",
        "outputId": "ddf26551-268e-4477-a271-0830abeb8ece",
        "colab": {
          "base_uri": "https://localhost:8080/"
        }
      },
      "execution_count": 16,
      "outputs": [
        {
          "output_type": "stream",
          "name": "stdout",
          "text": [
            "Estado de la solución: optimal\n",
            "Valor máximo: 22.50\n",
            "Valor óptimo de x: 4.50\n",
            "Valor óptimo de y: 0.00\n"
          ]
        }
      ]
    },
    {
      "cell_type": "markdown",
      "source": [
        "Subproblema 4"
      ],
      "metadata": {
        "id": "qQMZJg82MEId"
      }
    },
    {
      "cell_type": "code",
      "source": [
        "# Importar la librería que se va a utilizar\n",
        "import cvxpy as cvx\n",
        "\n",
        "# Crear las variables a optimizar\n",
        "x = cvx.Variable()\n",
        "y = cvx.Variable()\n",
        "\n",
        "# Definir la función objetivo para maximizar el ingreso\n",
        "obj = cvx.Maximize(5*x + 4*y)\n",
        "\n",
        "# Establecer las restricciones\n",
        "restricciones02 = [\n",
        "\n",
        "# Primera restricción\n",
        "x + y <= 5,\n",
        "    \n",
        "# Segunda restricción\n",
        "10*x + 6*y <= 45,\n",
        " \n",
        "# Restricciones subproblemas\n",
        "x >= 4,   \n",
        "y >= 1,\n",
        "    \n",
        "# Restricciones de no negatividad\n",
        "y >= 0\n",
        "]\n",
        "\n",
        "# Configurar el problema\n",
        "prob02 = cvx.Problem(obj, restricciones02)\n",
        "\n",
        "# Obtener el valor óptimo\n",
        "prob02.solve()\n",
        "\n",
        "# Mostrar el estado de la solución y el valor óptimo de la función objetivo\n",
        "print(\"Estado de la solución:\", prob02.status)\n",
        "print(\"Valor máximo:\", \"%.2f\"% prob02.value)\n",
        "\n",
        "# Mostrar los valores óptimos de las variables de decisión\n",
        "print (\"Valor óptimo de x:\", \"%.2f\"% x.value)\n",
        "print(\"Valor óptimo de y:\", \"%.2f\"% y.value)"
      ],
      "metadata": {
        "id": "pM_qqkIIdm_e",
        "outputId": "ffb91a3a-b98b-4903-d339-9af2ee979224",
        "colab": {
          "base_uri": "https://localhost:8080/",
          "height": 253
        }
      },
      "execution_count": 17,
      "outputs": [
        {
          "output_type": "stream",
          "name": "stdout",
          "text": [
            "Estado de la solución: infeasible\n",
            "Valor máximo: -inf\n"
          ]
        },
        {
          "output_type": "error",
          "ename": "TypeError",
          "evalue": "ignored",
          "traceback": [
            "\u001b[0;31m---------------------------------------------------------------------------\u001b[0m",
            "\u001b[0;31mTypeError\u001b[0m                                 Traceback (most recent call last)",
            "\u001b[0;32m<ipython-input-17-bab5fb2665db>\u001b[0m in \u001b[0;36m<cell line: 39>\u001b[0;34m()\u001b[0m\n\u001b[1;32m     37\u001b[0m \u001b[0;34m\u001b[0m\u001b[0m\n\u001b[1;32m     38\u001b[0m \u001b[0;31m# Mostrar los valores óptimos de las variables de decisión\u001b[0m\u001b[0;34m\u001b[0m\u001b[0;34m\u001b[0m\u001b[0m\n\u001b[0;32m---> 39\u001b[0;31m \u001b[0mprint\u001b[0m \u001b[0;34m(\u001b[0m\u001b[0;34m\"Valor óptimo de x:\"\u001b[0m\u001b[0;34m,\u001b[0m \u001b[0;34m\"%.2f\"\u001b[0m\u001b[0;34m%\u001b[0m \u001b[0mx\u001b[0m\u001b[0;34m.\u001b[0m\u001b[0mvalue\u001b[0m\u001b[0;34m)\u001b[0m\u001b[0;34m\u001b[0m\u001b[0;34m\u001b[0m\u001b[0m\n\u001b[0m\u001b[1;32m     40\u001b[0m \u001b[0mprint\u001b[0m\u001b[0;34m(\u001b[0m\u001b[0;34m\"Valor óptimo de y:\"\u001b[0m\u001b[0;34m,\u001b[0m \u001b[0;34m\"%.2f\"\u001b[0m\u001b[0;34m%\u001b[0m \u001b[0my\u001b[0m\u001b[0;34m.\u001b[0m\u001b[0mvalue\u001b[0m\u001b[0;34m)\u001b[0m\u001b[0;34m\u001b[0m\u001b[0;34m\u001b[0m\u001b[0m\n",
            "\u001b[0;31mTypeError\u001b[0m: must be real number, not NoneType"
          ]
        }
      ]
    },
    {
      "cell_type": "markdown",
      "source": [
        "Subproblema5"
      ],
      "metadata": {
        "id": "c8u4c7EqMNim"
      }
    },
    {
      "cell_type": "code",
      "source": [
        "# Importar la librería que se va a utilizar\n",
        "import cvxpy as cvx\n",
        "\n",
        "# Crear las variables a optimizar\n",
        "x = cvx.Variable()\n",
        "y = cvx.Variable()\n",
        "\n",
        "# Definir la función objetivo para maximizar el ingreso\n",
        "obj = cvx.Maximize(5*x + 4*y)\n",
        "\n",
        "# Establecer las restricciones\n",
        "restricciones02 = [\n",
        "\n",
        "# Primera restricción\n",
        "x + y <= 5,\n",
        "    \n",
        "# Segunda restricción\n",
        "10*x + 6*y <= 45,\n",
        " \n",
        "# Restricciones subproblemas\n",
        "x >= 4,   \n",
        "y <= 0,\n",
        "x <= 4,\n",
        "    \n",
        "# Restricciones de no negatividad\n",
        "y >= 0\n",
        "]\n",
        "\n",
        "# Configurar el problema\n",
        "prob02 = cvx.Problem(obj, restricciones02)\n",
        "\n",
        "# Obtener el valor óptimo\n",
        "prob02.solve()\n",
        "\n",
        "# Mostrar el estado de la solución y el valor óptimo de la función objetivo\n",
        "print(\"Estado de la solución:\", prob02.status)\n",
        "print(\"Valor máximo:\", \"%.2f\"% prob02.value)\n",
        "\n",
        "# Mostrar los valores óptimos de las variables de decisión\n",
        "print (\"Valor óptimo de x:\", \"%.2f\"% x.value)\n",
        "print(\"Valor óptimo de y:\", \"%.2f\"% y.value)"
      ],
      "metadata": {
        "id": "X4mneG5Adz8O"
      },
      "execution_count": null,
      "outputs": []
    },
    {
      "cell_type": "markdown",
      "source": [
        "Subproblema 6 "
      ],
      "metadata": {
        "id": "CjZHN4FIMXFu"
      }
    },
    {
      "cell_type": "code",
      "source": [
        "# Importar la librería que se va a utilizar\n",
        "import cvxpy as cvx\n",
        "\n",
        "# Crear las variables a optimizar\n",
        "x = cvx.Variable()\n",
        "y = cvx.Variable()\n",
        "\n",
        "# Definir la función objetivo para maximizar el ingreso\n",
        "obj = cvx.Maximize(5*x + 4*y)\n",
        "\n",
        "# Establecer las restricciones\n",
        "restricciones02 = [\n",
        "\n",
        "# Primera restricción\n",
        "x + y <= 5,\n",
        "    \n",
        "# Segunda restricción\n",
        "10*x + 6*y <= 45,\n",
        " \n",
        "# Restricciones subproblemas\n",
        "x >= 4,   \n",
        "y <= 0,\n",
        "x >= 5,\n",
        "    \n",
        "# Restricciones de no negatividad\n",
        "y >= 0\n",
        "]\n",
        "\n",
        "# Configurar el problema\n",
        "prob02 = cvx.Problem(obj, restricciones02)\n",
        "\n",
        "# Obtener el valor óptimo\n",
        "prob02.solve()\n",
        "\n",
        "# Mostrar el estado de la solución y el valor óptimo de la función objetivo\n",
        "print(\"Estado de la solución:\", prob02.status)\n",
        "print(\"Valor máximo:\", \"%.2f\"% prob02.value)\n",
        "\n",
        "# Mostrar los valores óptimos de las variables de decisión\n",
        "print (\"Valor óptimo de x:\", \"%.2f\"% x.value)\n",
        "print(\"Valor óptimo de y:\", \"%.2f\"% y.value)"
      ],
      "metadata": {
        "id": "gDpI6j_NJABQ"
      },
      "execution_count": null,
      "outputs": []
    },
    {
      "cell_type": "markdown",
      "source": [
        "## 01.\n",
        "Resuelva directamente, utilizando CVXPY, el ejemplo 9.2-1 del libro de (TAHA, 2012) página 336."
      ],
      "metadata": {
        "id": "D4vzr-ANcoUe"
      }
    },
    {
      "cell_type": "markdown",
      "source": [
        "## 02.\n",
        "Resuelva con MOSEK, utilizando CVXPY, el ejemplo 9.2-1 del libro de (TAHA, 2012) página 336."
      ],
      "metadata": {
        "id": "TCCMOfTjc7n0"
      }
    },
    {
      "cell_type": "markdown",
      "source": [
        "## 03.\n",
        "Resuelva con el método Branch and Bound, utilizando CVXPY, **uno** de los cinco numerales del ejercicio 2 del conjunto de problemas 9.2a del libro de (TAHA, 2012) página 342."
      ],
      "metadata": {
        "id": "9Ei2tKLdas7d"
      }
    },
    {
      "cell_type": "markdown",
      "source": [
        "## 04.\n",
        "Resuelva directamente, utilizando CVXPY, **uno** de los cinco numerales del ejercicio 2 del conjunto de problemas 9.2a del libro de (TAHA, 2012) página 342. \n",
        "\n",
        "Sugerencia: utilice el mismo numeral utilizado en el ejercicio 03."
      ],
      "metadata": {
        "id": "6JifXyZvdK5o"
      }
    },
    {
      "cell_type": "markdown",
      "source": [
        "## 05.\n",
        "Resuelva con MOSEK, utilizando CVXPY, **uno** de los cinco numerales del ejercicio 2 del conjunto de problemas 9.2a del libro de (TAHA, 2012) página 342. \n",
        "\n",
        "Sugerencia: utilice el mismo numeral utilizado en el ejercicio 03."
      ],
      "metadata": {
        "id": "IriDQJMzdnw6"
      }
    }
  ]
}