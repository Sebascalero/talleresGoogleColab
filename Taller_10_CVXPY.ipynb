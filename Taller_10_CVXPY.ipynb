{
  "nbformat": 4,
  "nbformat_minor": 0,
  "metadata": {
    "colab": {
      "provenance": [],
      "toc_visible": true,
      "include_colab_link": true
    },
    "kernelspec": {
      "name": "python3",
      "display_name": "Python 3"
    }
  },
  "cells": [
    {
      "cell_type": "markdown",
      "metadata": {
        "id": "view-in-github",
        "colab_type": "text"
      },
      "source": [
        "<a href=\"https://colab.research.google.com/github/Sebascalero/talleresGoogleColab/blob/main/Taller_10_CVXPY.ipynb\" target=\"_parent\"><img src=\"https://colab.research.google.com/assets/colab-badge.svg\" alt=\"Open In Colab\"/></a>"
      ]
    },
    {
      "cell_type": "markdown",
      "source": [
        "## «Solo se puede tener fe en la duda»\n",
        "### [Jorge Wagensberg](https://es.wikipedia.org/wiki/Jorge_Wagensberg)"
      ],
      "metadata": {
        "id": "cr-wZpWhC2dt"
      }
    },
    {
      "metadata": {
        "id": "tpFFfpLa7D_R"
      },
      "cell_type": "markdown",
      "source": [
        "# Taller 10 CVXPY\n",
        "\n",
        "En este taller aprenderá los conceptos básicos de Python 3 relativos a la librería CVXPY.\n",
        "\n",
        "CVXPY  **no es una librería nativa** de Python por lo que **requiere ser instalada antes de ser invocada**. Sin embargo, esta librería sí está preinstalada en Google Colaboratory por lo que basta invocarla para poder usar sus funcionalidades.\n",
        "\n",
        "Puede consultar mayor información en: [CVXPY](https://www.cvxpy.org/)\n"
      ]
    },
    {
      "cell_type": "markdown",
      "source": [
        "## Ejemplo 00: minimizar sujeto a restricciones\n",
        "\n",
        "Minimizar 3x + 8y\n",
        "\n",
        "sujeto a:\n",
        "\n",
        "x + y >= 50\n",
        "\n",
        "x - y <= 20\n",
        "\n",
        "x, y no negativos"
      ],
      "metadata": {
        "id": "LdmJshTLGPlm"
      }
    },
    {
      "cell_type": "code",
      "source": [
        "# Importar la librería que se va a utilizar\n",
        "import cvxpy as cvx\n",
        "\n",
        "# Crear las variables de decisión\n",
        "x = cvx.Variable()\n",
        "y = cvx.Variable()\n",
        "\n",
        "# Definir la función objetivo\n",
        "obj00 = cvx.Minimize(3*x + 8*y)\n",
        "\n",
        "# Establecer las restricciones\n",
        "constraints00 = [\n",
        "    \n",
        "x + y >= 50,\n",
        "\n",
        "x - y <= 20,\n",
        "\n",
        "x >= 0,\n",
        "\n",
        "y >= 0\n",
        "\n",
        "]\n",
        "\n",
        "# Configurar el problema\n",
        "problema_00 = cvx.Problem(obj00, constraints00)\n",
        "\n",
        "# Obtener el valor óptimo\n",
        "problema_00.solve()\n",
        "\n",
        "# Mostrar el estado de la solución\n",
        "print(\"Estado de la solución:\", problema_00.status)\n",
        "\n",
        "# Mostrar el valor óptimo de la función objetivo\n",
        "print(\"Valor óptimo de la función objetivo:\", problema_00.value)\n",
        "\n",
        "# Mostrar los valores óptimos de las variables de decisión\n",
        "print(\"Valores óptimos de las variables de decisión:\", x.value, y.value)"
      ],
      "metadata": {
        "id": "Qd11Sd6JHXhk",
        "outputId": "ac49c3a9-e215-40b0-ad66-5805ad16755b",
        "colab": {
          "base_uri": "https://localhost:8080/"
        }
      },
      "execution_count": 1,
      "outputs": [
        {
          "output_type": "stream",
          "name": "stdout",
          "text": [
            "Estado de la solución: optimal\n",
            "Valor óptimo de la función objetivo: 224.9999996816037\n",
            "Valores óptimos de las variables de decisión: 35.00000000022704 14.999999960115321\n"
          ]
        }
      ]
    },
    {
      "cell_type": "markdown",
      "source": [
        "# Los problemas en CVXPY son objetos INMUTABLES\n",
        "\n",
        "Es decir que no pueden ser modificados después de su creación. Si necesita hacer ajustes a un problema (objetivos o restricciones) defina un nuevo problema."
      ],
      "metadata": {
        "id": "gZaO7FpvIsjV"
      }
    },
    {
      "cell_type": "markdown",
      "source": [
        "## Ejemplo 01: Industrias Felicidad\n",
        "\n",
        "Industrias Felicidad S. A. produce mezcla para tortas utilizando un molino. Para producir una tonelada de mezcla para tortas se requieren dos horas de trabajo del molino y tres horas de trabajo en la sección de empacado.\n",
        "\n",
        "El molino solo puede estar en funcionamiento diez horas diarias, mientras que la sección de empacado puede trabajar hasta 16 horas diarias.\n",
        "\n",
        "Cada tonelada de mezcla para tortas se vende a 250.000 pesos y tiene un costo de producción de 180.000 pesos.\n",
        "\n",
        "Calcule la producción diaria de mezcla para tortas para maximizar el ingreso por ventas."
      ],
      "metadata": {
        "id": "-jgP9xx3Iu1_"
      }
    },
    {
      "cell_type": "code",
      "source": [
        "# Importar la librería que se va a utilizar\n",
        "import cvxpy as cvx\n",
        "\n",
        "# Crear la variable de decisión\n",
        "qTorta = cvx.Variable()\n",
        "\n",
        "\n",
        "# Definir la función objetivo para maximizar el ingreso\n",
        "objIndFel = cvx.Maximize(250000*qTorta)\n",
        "\n",
        "# Establecer las restricciones\n",
        "restriccionesIndFel = [\n",
        "\n",
        "# Restricción de capacidad de molino\n",
        "2*qTorta <= 10,\n",
        "    \n",
        "# Restricción de capacidad de empacado\n",
        "3*qTorta<= 16,\n",
        "    \n",
        "# Restricción de no negatividad\n",
        "qTorta >= 0\n",
        "]\n",
        "\n",
        "# Configurar el problema\n",
        "probIndFel = cvx.Problem(objIndFel, restriccionesIndFel)\n",
        "\n",
        "# Obtener el valor óptimo\n",
        "probIndFel.solve()\n",
        "\n",
        "# Mostrar el estado de la solución\n",
        "print(\"Estado de la solución:\", probIndFel.status)\n",
        "\n",
        "# Mostrar el valor óptimo de la función objetivo\n",
        "print(\"Ingreso máximo:\", probIndFel.value)\n",
        "\n",
        "# Mostrar los valores óptimos de las variables de decisión\n",
        "print(\"Cantidad de mezcla de tortas que maximiza el ingreso por ventas:\", qTorta.value)"
      ],
      "metadata": {
        "id": "KZrbP3LaUK4J",
        "outputId": "c7e76405-5713-4f37-b590-3cacf7bd0e1c",
        "colab": {
          "base_uri": "https://localhost:8080/"
        }
      },
      "execution_count": 2,
      "outputs": [
        {
          "output_type": "stream",
          "name": "stdout",
          "text": [
            "Estado de la solución: optimal\n",
            "Ingreso máximo: 1249999.9989153617\n",
            "Cantidad de mezcla de tortas que maximiza el ingreso por ventas: 4.9999999956614465\n"
          ]
        }
      ]
    },
    {
      "metadata": {
        "id": "vC4A8CoVl6wo"
      },
      "cell_type": "markdown",
      "source": [
        "## Ejemplo 02: Compañía Reddy Mikks\n",
        "\n",
        "Tomado del libro de [TAHA, 2012](https://fad.unsa.edu.pe/bancayseguros/wp-content/uploads/sites/4/2019/03/investigacic3b3n-de-operaciones-9na-edicic3b3n-hamdy-a-taha-fl.pdf), ejemplo 2.1-1 página 13.\n",
        "\n",
        "Reddy Mikks se propone determinar la combinación óptima de pinturas para interiores y exteriores que maximice la utilidad diaria total. \n",
        "\n",
        "Variables de decisión: \n",
        "\n",
        "Xi = toneladas producidas diariamente de la pintura tipo i.\n",
        "Sea i {1 = para exteriores, 2 = para interiores}\n",
        "\n",
        "Función objetivo:\n",
        "Max Z = 5000X1 + 4000X2\n",
        "\n",
        "Restricciones:\n",
        "\n",
        "Consumo de M1 para ambas pinturas:  \t\t6X1 + 4X2 ≤ 24\n",
        "\n",
        "Consumo de M2 para ambas pinturas:\t \tX1 + 2X2 ≤ 6\n",
        "\n",
        "Límites de demanda diaria:\t\t\tX2 – X1  ≤ 1\n",
        "\n",
        "Límites de demanda diaria para pintura de interiores:\t\tX2  ≤ 2\n",
        "\n",
        "No negatividad:  \t\t\t Xi ≥ 0 para todo i\n"
      ]
    },
    {
      "metadata": {
        "id": "Jj3FjipalypH"
      },
      "cell_type": "code",
      "source": [
        "# Ejemplo 2.1-1 del libro de TAHA (Compañía Reddy Mikks)\n",
        "\n",
        "# Importar la librería que se va a utilizar\n",
        "import cvxpy as cvx\n",
        "\n",
        "# Crear las variables de decisión\n",
        "exterior = cvx.Variable()\n",
        "interior = cvx.Variable()\n",
        "\n",
        "\n",
        "# Definir la función objetivo para maximizar el ingreso\n",
        "objRM = cvx.Maximize(5000*exterior + 4000*interior)\n",
        "\n",
        "# Establecer las restricciones\n",
        "restriccionesRM = [\n",
        "\n",
        "# Consumo de materia prima M1\n",
        "6*exterior + 4*interior <= 24,\n",
        " \n",
        "# Consumo de materia prima M2\n",
        "1*exterior + 2*interior <= 6,    \n",
        "    \n",
        "# Límites de demanda diaria\n",
        "interior - exterior <= 1,\n",
        "    \n",
        "# Demanda diaria para pintura de interiores\n",
        "interior <= 2,\n",
        "    \n",
        "# Restricción de no negatividad\n",
        "exterior >= 0,\n",
        "\n",
        "interior >= 0\n",
        "    \n",
        "]\n",
        "\n",
        "# Configurar el problema\n",
        "probRM = cvx.Problem(objRM, restriccionesRM)\n",
        "\n",
        "# Obtener el valor óptimo\n",
        "probRM.solve()\n",
        "\n",
        "# Mostrar el estado de la solución\n",
        "print(\"Estado de la solución:\", probRM.status)\n",
        "\n",
        "# Mostrar el valor óptimo de la función objetivo sin aproximaciones\n",
        "print(\"Utilidad máxima SIN aproximaciones:\", probRM.value)\n",
        "\n",
        "# Mostrar el valor óptimo de la función objetivo aproximado a dos decimales\n",
        "print(\"Utilidad máxima aproximada a dos decimales:\", \"%.2f\"% probRM.value)\n",
        "\n",
        "# Mostrar los valores óptimos de las variables de decisión\n",
        "print(\"Toneladas producidas de pinturas para exteriores que optimizan las utilidades SIN aproximaciones:\", exterior.value)\n",
        "print(\"Toneladas producidas de pinturas para exteriores que optimizan las utilidades:\", \"%.2f\"% exterior.value)\n",
        "print(\"Toneladas producidas de pinturas para interiores que optimizan las utilidades SIN aproximaciones:\", interior.value)\n",
        "print(\"Toneladas producidas de pinturas para interiores que optimizan las utilidades:\", \"%.2f\"% interior.value)"
      ],
      "execution_count": null,
      "outputs": []
    },
    {
      "metadata": {
        "id": "HViZdbUvh3cU"
      },
      "cell_type": "markdown",
      "source": [
        "## Ejemplo 03: problema de la dieta\n",
        "\n",
        "Tomado del libro de [TAHA, 2012](https://fad.unsa.edu.pe/bancayseguros/wp-content/uploads/sites/4/2019/03/investigacic3b3n-de-operaciones-9na-edicic3b3n-hamdy-a-taha-fl.pdf), ejemplo 2.1-1 página 24.\n",
        "\n",
        "Variables de decisión: \n",
        "\n",
        "X1: Libras de maíz en la mezcla diaria\n",
        "\n",
        "X2: Libras de soya en la mezcla diaria\n",
        "\n",
        "Función objetivo:\t\tMinimizar Z=0,3X1+0,9X2\n",
        "\n",
        "Restricciones:\n",
        "Necesidades dietéticas de proteína\t\t0,09X1+0,6X2 ≥0,3(X1+X2)\n",
        "\n",
        "Necesidades dietéticas de fibra\t\t0,02X1+0,06X2 ≤0,05(X1+X2)\n",
        "\n",
        "Consumo mínimo de mezcla diaria\t\tX1+X2≥800\n",
        "\n",
        "No negatividad\t\t\t\tX1, X2 ≥0\n",
        "\n",
        "\n",
        "Organizando las ecuaciones se obtiene:\n",
        "\n",
        "Necesidades dietéticas de proteína\t\t0,21X1-0,30X2 ≤0\n",
        "\n",
        "Necesidades dietéticas de fibra\t\t0,03X1-0,01X2 ≥0\n",
        "\n",
        "Consumo mínimo de mezcla diaria\t\tX1+X2≥800\n",
        "\n",
        "No negatividad\t\t\t\tX1, X2 ≥0\n",
        "\n"
      ]
    },
    {
      "metadata": {
        "id": "DeKpD7K7k4GR"
      },
      "cell_type": "code",
      "source": [
        "# Ejemplo 2.2-2 del libro de TAHA (Problema de la dieta)\n",
        "\n",
        "# Importar la librería que se va a utilizar\n",
        "import cvxpy as cvx\n",
        "\n",
        "# Crear las variables a optimizar\n",
        "maiz = cvx.Variable()\n",
        "soya = cvx.Variable()\n",
        "\n",
        "\n",
        "# Definir la función objetivo para minimizar el costo\n",
        "objDieta = cvx.Minimize(0.3*maiz + 0.9*soya)\n",
        "\n",
        "# Establecer las restricciones\n",
        "restriccionesDieta = [\n",
        "\n",
        "# Necesidades dietéticas de proteína\n",
        "0.21*maiz - 0.3*soya <= 0,\n",
        " \n",
        "# Necesidades dietéticas de fibra\n",
        "0.03*maiz - 0.01*soya >= 0,    \n",
        "    \n",
        "# Consumo mínimo de mezlca diaria\n",
        "soya + maiz >= 800,\n",
        "    \n",
        "# Restricción de no negatividad\n",
        "maiz >= 0,\n",
        "soya >= 0\n",
        "    \n",
        "]\n",
        "\n",
        "# Configurar el problema\n",
        "probDieta = cvx.Problem(objDieta, restriccionesDieta)\n",
        "\n",
        "# Obtener el valor óptimo\n",
        "probDieta.solve()\n",
        "\n",
        "# Mostrar el estado de la solución\n",
        "print(\"Estado de la solución:\", probDieta.status)\n",
        "\n",
        "# Mostrar el valor óptimo de la función objetivo sin aproximaciones\n",
        "print(\"Costo mínimo SIN aproximaciones:\", probDieta.value)\n",
        "\n",
        "# Mostrar el valor óptimo de la función objetivo aproximado a dos decimales\n",
        "print(\"Costo mínimo aproximada a dos decimales:\", \"%.2f\"% probDieta.value)\n",
        "\n",
        "# Mostrar los valores óptimos de las variables de decisión sin aproximaciones\n",
        "print(\"Cantidad de libras de maíz que minimizan el costo SIN aproximaciones:\", maiz.value)\n",
        "print(\"Cantidad de libras de soya que minimizan el costo SIN aproximaciones:\", soya.value)\n",
        "\n",
        "# Mostrar los valores óptimos de las variables de decisión aproximado a dos decimales\n",
        "print(\"Cantidad de libras de maíz que minimizan el costo aproximada a dos decimales:\", \"%.2f\"%  maiz.value)\n",
        "print(\"Cantidad de libras de soya que minimizan el costo aproximada a dos decimales:\", \"%.2f\"%  soya.value)"
      ],
      "execution_count": null,
      "outputs": []
    },
    {
      "cell_type": "markdown",
      "source": [
        "# Ejercicios"
      ],
      "metadata": {
        "id": "hfp66KZgVdSA"
      }
    },
    {
      "cell_type": "markdown",
      "source": [
        "## Bank One\n",
        "\n",
        "Resuelva con CVXPY el ejemplo 2.4-1 (Modelo de préstamo bancario) del libro de (TAHA, 2012) página 35.\n",
        "\n"
      ],
      "metadata": {
        "id": "4kpeP548VfWv"
      }
    },
    {
      "cell_type": "code",
      "source": [
        "\n",
        "\n",
        "# Importar la librería que se va a utilizar\n",
        "import cvxpy as cvx\n",
        "\n",
        "# Crear la variable de decisión\n",
        "\n",
        "personales = cvx.variable()\n",
        "automovil = cvx.variable()\n",
        "casa = cvx.variable()\n",
        "agricola = cvx.variable()\n",
        "comercial = cvx.variable()\n",
        "\n",
        "# Definir la función objetivo para maximizar el rendimiento\n",
        "ObjRendi = cvx.maximine (0.026*personales+0.0509*automovil+0.0864*casa+0.06875*agricola+0.078*comercial)\n",
        "\n",
        "\n",
        "# Establecer las restricciones\n",
        "restriccionesRendi = [\n",
        "    \n",
        "# Restricción numero 1\n",
        "x1 + x2 + x3 + x4 + x5  12,\n",
        "    \n",
        "# Restricción numero 2\n",
        ",\n",
        "\n",
        "# Restricción numero 3 \n",
        ",\n",
        "# Restricción numero 4 \n",
        ",\n",
        "# Restricción numero 5\n",
        ",\n",
        "    \n",
        "# Restricción de no negatividad\n",
        "personales >= 0\n",
        "automovil >= 0 \n",
        "casa >= 0\n",
        "agricola >=0\n",
        "comercial>=0\n",
        "]\n",
        "\n",
        "# Configurar el problema\n",
        "probIndFel = cvx.Problem(objIndFel, restriccionesIndFel)\n",
        "\n",
        "# Obtener el valor óptimo\n",
        "probIndFel.solve()\n",
        "\n",
        "# Mostrar el estado de la solución\n",
        "print(\"Estado de la solución:\", probIndFel.status)\n",
        "\n",
        "# Mostrar el valor óptimo de la función objetivo\n",
        "print(\"Ingreso máximo:\", probIndFel.value)\n",
        "\n",
        "# Mostrar los valores óptimos de las variables de decisión\n",
        "print(\"Cantidad de mezcla de tortas que maximiza el ingreso por ventas:\", qTorta.value)\n",
        "\n",
        "\n"
      ],
      "metadata": {
        "id": "n2v2uvLkZD0s",
        "outputId": "da81a1a2-0f82-4c05-c5fb-0216d497fa3e",
        "colab": {
          "base_uri": "https://localhost:8080/",
          "height": 131
        }
      },
      "execution_count": 3,
      "outputs": [
        {
          "output_type": "error",
          "ename": "SyntaxError",
          "evalue": "ignored",
          "traceback": [
            "\u001b[0;36m  File \u001b[0;32m\"<ipython-input-3-a323b0f09a47>\"\u001b[0;36m, line \u001b[0;32m20\u001b[0m\n\u001b[0;31m    ,\u001b[0m\n\u001b[0m    ^\u001b[0m\n\u001b[0;31mSyntaxError\u001b[0m\u001b[0;31m:\u001b[0m invalid syntax\n"
          ]
        }
      ]
    },
    {
      "cell_type": "markdown",
      "source": [
        "## Hawaii Sugar Company\n",
        "\n",
        "Resuelva con CVXPY el ejercicio 7 del libro de (TAHA, 2012) página 61."
      ],
      "metadata": {
        "id": "AWpJFnkfZE8X"
      }
    },
    {
      "cell_type": "code",
      "source": [],
      "metadata": {
        "id": "nEHnjFNraLvf"
      },
      "execution_count": null,
      "outputs": []
    },
    {
      "cell_type": "markdown",
      "source": [
        "## Control de contaminación\n",
        "\n",
        "Resuelva con CVXPY el ejercicio 4 del libro de (TAHA, 2012) página 64."
      ],
      "metadata": {
        "id": "0hEyKcvlaM1p"
      }
    },
    {
      "cell_type": "code",
      "source": [],
      "metadata": {
        "id": "yN0MvrQ4ao7v"
      },
      "execution_count": null,
      "outputs": []
    }
  ]
}